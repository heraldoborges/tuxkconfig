{
 "cells": [
  {
   "cell_type": "markdown",
   "metadata": {},
   "source": [
    "# Figure 1: Boxplot of Binary Size Distribution\n",
    "\n",
    "This notebook reproduces Figure 1 from the paper 'Linux Kernel Configurations at Scale: A Dataset for Performance and Evolution Analysis' (EASE 2025). It creates a boxplot showing the binary size distribution (in MB) across TuxKConfig versions 4.13 to 5.8.\n",
    "\n",
    "## Steps:\n",
    "1. **Load Datasets**: Fetch all versions from OpenML.\n",
    "2. **Extract Sizes**: Collect binary size data for each version.\n",
    "3. **Plot Boxplot**: Visualize the distribution with Matplotlib.\n",
    "\n",
    "The figure shows medians, IQRs, whiskers, and outliers, as described in Section 4."
   ]
  },
  {
   "cell_type": "code",
   "execution_count": null,
   "metadata": {},
   "outputs": [],
   "source": [
    "import openml\n",
    "import matplotlib.pyplot as plt\n",
    "import pandas as pd\n",
    "\n",
    "# Step 1: Load datasets\n",
    "versions = {'4.13': 46759, '4.15': 46739, '4.20': 46740, '5.0': 46741, \n",
    "            '5.4': 46742, '5.7': 46743, '5.8': 46744}\n",
    "sizes = []\n",
    "for ver, id in versions.items():\n",
    "    dataset = openml.datasets.get_dataset(id)\n",
    "    _, y = dataset.get_data(target='Binary_Size')\n",
    "    sizes.append(y)\n",
    "\n",
    "# Step 2 & 3: Plot boxplot\n",
    "plt.boxplot(sizes, labels=versions.keys())\n",
    "plt.title('Binary Size Distribution (MB) Across Versions 4.13 to 5.8')\n",
    "plt.ylabel('Binary Size (MB)')\n",
    "plt.show()"
   ]
  }
 ],
 "metadata": {
  "kernelspec": {
   "display_name": "Python 3",
   "language": "python",
   "name": "python3"
  },
  "language_info": {
   "codemirror_mode": {
    "name": "ipython",
    "version": 3
   },
   "file_extension": ".py",
   "mimetype": "text/x-python",
   "name": "python",
   "nbconvert_exporter": "python",
   "pygments_lexer": "ipython3",
   "version": "3.8.0"
  }
 },
 "nbformat": 4,
 "nbformat_minor": 2
}
