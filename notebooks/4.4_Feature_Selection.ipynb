{
 "cells": [
  {
   "cell_type": "markdown",
   "metadata": {},
   "source": [
    "# 4.4 Feature Selection\n",
    "\n",
    "This notebook reproduces the example from Section 4.4 of the paper 'Linux Kernel Configurations at Scale: A Dataset for Performance and Evolution Analysis' (EASE 2025). It uses LASSO regression to reduce options for predicting binary size in TuxKConfig version 5.8 (OpenML ID: 46744).\n",
    "\n",
    "## Steps:\n",
    "1. **Load Dataset**: Fetch version 5.8 from OpenML.\n",
    "2. **Apply LASSO**: Fit the model to select features.\n",
    "3. **Report Reduction**: Show the number of selected features and a sample.\n",
    "\n"
   ]
  },
  {
   "cell_type": "code",
   "execution_count": null,
   "metadata": {},
   "outputs": [],
   "source": [
    "import openml\n",
    "from sklearn.linear_model import Lasso\n",
    "import pandas as pd\n",
    "\n",
    "# Step 1: Load TuxKConfig v5.8\n",
    "dataset = openml.datasets.get_dataset(46744)\n",
    "X, y = dataset.get_data(target='Binary_Size')\n",
    "\n",
    "# Step 2: Apply LASSO\n",
    "model = Lasso(alpha=0.01, random_state=42)\n",
    "model.fit(X, y)\n",
    "selected_features = X.columns[model.coef_ != 0]\n",
    "\n",
    "# Step 3: Report results\n",
    "print(f'Reduced from {X.shape[1]} to {len(selected_features)} features')\n",
    "print(f'Sample selected: {selected_features[:5].tolist()}')"
   ]
  }
 ],
 "metadata": {
  "kernelspec": {
   "display_name": "Python 3",
   "language": "python",
   "name": "python3"
  },
  "language_info": {
   "codemirror_mode": {
    "name": "ipython",
    "version": 3
   },
   "file_extension": ".py",
   "mimetype": "text/x-python",
   "name": "python",
   "nbconvert_exporter": "python",
   "pygments_lexer": "ipython3",
   "version": "3.8.0"
  }
 },
 "nbformat": 4,
 "nbformat_minor": 2
}
