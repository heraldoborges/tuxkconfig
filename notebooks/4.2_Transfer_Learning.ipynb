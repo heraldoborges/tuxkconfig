{
 "cells": [
  {
   "cell_type": "markdown",
   "metadata": {},
   "source": [
    "# 4.2 Transfer Learning\n",
    "\n",
    "This notebook reproduces the example from Section 4.2 of the paper 'Linux Kernel Configurations at Scale: A Dataset for Performance and Evolution Analysis' (EASE 2025). It trains a linear regression model on TuxKConfig data from versions 5.4 and 5.7 to predict binary size (in MB) for version 5.8.\n",
    "\n",
    "## Steps:\n",
    "1. **Load Datasets**: Fetch versions 5.4 (ID: 46742), 5.7 (ID: 46743), and 5.8 (ID: 46744) from OpenML.\n",
    "2. **Combine Source Data**: Merge 5.4 and 5.7 as training data.\n",
    "3. **Align Features**: Ensure feature consistency between source and target.\n",
    "4. **Train and Predict**: Fit the model and evaluate with MAE.\n",
    "\n"
   ]
  },
  {
   "cell_type": "code",
   "execution_count": null,
   "metadata": {},
   "outputs": [],
   "source": [
    "import openml\n",
    "from sklearn.linear_model import LinearRegression\n",
    "import pandas as pd\n",
    "import numpy as np\n",
    "\n",
    "# Step 1: Load datasets\n",
    "source_504 = openml.datasets.get_dataset(46742)\n",
    "source_507 = openml.datasets.get_dataset(46743)\n",
    "target_508 = openml.datasets.get_dataset(46744)\n",
    "X_504, y_504 = source_504.get_data(target='Binary_Size')\n",
    "X_507, y_507 = source_507.get_data(target='Binary_Size')\n",
    "X_target, y_target = target_508.get_data(target='Binary_Size')\n",
    "\n",
    "# Step 2: Combine source data (5.4 and 5.7)\n",
    "X_source = pd.concat([X_504, X_507], axis=0)\n",
    "y_source = pd.concat([y_504, y_507], axis=0)\n",
    "\n",
    "# Step 3: Align features\n",
    "common_features = X_source.columns.intersection(X_target.columns)\n",
    "X_source = X_source[common_features]\n",
    "X_target = X_target[common_features]\n",
    "\n",
    "# Step 4: Train and predict\n",
    "model = LinearRegression()\n",
    "model.fit(X_source, y_source)\n",
    "predictions = model.predict(X_target)\n",
    "mae = np.mean(np.abs(predictions - y_target))\n",
    "print(f'MAE: {mae:.2f} MB')"
   ]
  }
 ],
 "metadata": {
  "kernelspec": {
   "display_name": "Python 3",
   "language": "python",
   "name": "python3"
  },
  "language_info": {
   "codemirror_mode": {
    "name": "ipython",
    "version": 3
   },
   "file_extension": ".py",
   "mimetype": "text/x-python",
   "name": "python",
   "nbconvert_exporter": "python",
   "pygments_lexer": "ipython3",
   "version": "3.8.0"
  }
 },
 "nbformat": 4,
 "nbformat_minor": 2
}
