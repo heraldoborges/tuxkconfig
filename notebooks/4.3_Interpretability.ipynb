{
 "cells": [
  {
   "cell_type": "markdown",
   "metadata": {},
   "source": [
    "# 4.3 Interpretability\n",
    "\n",
    "This notebook reproduces the example from Section 4.3 of the paper 'Linux Kernel Configurations at Scale: A Dataset for Performance and Evolution Analysis' (EASE 2025). It uses a Random Forest model to identify influential options affecting binary size in TuxKConfig version 5.8 (OpenML ID: 46744).\n",
    "\n",
    "## Steps:\n",
    "1. **Load Dataset**: Fetch version 5.8 from OpenML.\n",
    "2. **Train Model**: Fit a Random Forest regressor.\n",
    "3. **Extract Importance**: Rank the top 5 options by feature importance scores.\n",
    "\n"
   ]
  },
  {
   "cell_type": "code",
   "execution_count": null,
   "metadata": {},
   "outputs": [],
   "source": [
    "import openml\n",
    "from sklearn.ensemble import RandomForestRegressor\n",
    "import pandas as pd\n",
    "\n",
    "# Step 1: Load TuxKConfig v5.8\n",
    "dataset = openml.datasets.get_dataset(46744)\n",
    "X, y = dataset.get_data(target='Binary_Size')\n",
    "\n",
    "# Step 2: Train Random Forest\n",
    "model = RandomForestRegressor(n_estimators=100, random_state=42)\n",
    "model.fit(X, y)\n",
    "\n",
    "# Step 3: Extract and rank top 5 options\n",
    "importances = model.feature_importances_\n",
    "feature_names = X.columns\n",
    "top_indices = importances.argsort()[-5:][::-1]\n",
    "top_features = [(feature_names[i], importances[i]) for i in top_indices]\n",
    "for feature, score in top_features:\n",
    "    print(f'{feature}: {score:.4f}')"
   ]
  }
 ],
 "metadata": {
  "kernelspec": {
   "display_name": "Python 3",
   "language": "python",
   "name": "python3"
  },
  "language_info": {
   "codemirror_mode": {
    "name": "ipython",
    "version": 3
   },
   "file_extension": ".py",
   "mimetype": "text/x-python",
   "name": "python",
   "nbconvert_exporter": "python",
   "pygments_lexer": "ipython3",
   "version": "3.8.0"
  }
 },
 "nbformat": 4,
 "nbformat_minor": 2
}
