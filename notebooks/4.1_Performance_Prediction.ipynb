{
 "cells": [
  {
   "cell_type": "markdown",
   "metadata": {},
   "source": [
    "# 4.1 Performance Prediction\n",
    "\n",
    "This notebook reproduces the example from Section 4.1 of the paper 'Linux Kernel Configurations at Scale: A Dataset for Performance and Evolution Analysis' (EASE 2025). It uses a simple linear regression model to predict the binary size (in MB) of the vmlinux file for Linux kernel version 4.15, based on the TuxKConfig dataset available on OpenML (ID: 46739).\n",
    "\n",
    "## Steps:\n",
    "1. **Load the Dataset**: Fetch version 4.15 from OpenML.\n",
    "2. **Prepare Data**: Split into training (80%) and test (20%) sets.\n",
    "3. **Train Model**: Fit a linear regression model.\n",
    "4. **Evaluate**: Calculate the Mean Absolute Error (MAE).\n",
    "\n"
   ]
  },
  {
   "cell_type": "code",
   "execution_count": null,
   "metadata": {},
   "outputs": [],
   "source": [
    "import openml\n",
    "from sklearn.linear_model import LinearRegression\n",
    "from sklearn.model_selection import train_test_split\n",
    "import numpy as np\n",
    "\n",
    "# Step 1: Fetch TuxKConfig v4.15 from OpenML\n",
    "dataset = openml.datasets.get_dataset(46739)\n",
    "X, y = dataset.get_data(target='Binary_Size')\n",
    "\n",
    "# Step 2: Split data into training (80%) and test (20%) sets\n",
    "X_train, X_test, y_train, y_test = train_test_split(X, y, test_size=0.2, random_state=42)\n",
    "\n",
    "# Step 3: Train the linear regression model\n",
    "model = LinearRegression()\n",
    "model.fit(X_train, y_train)\n",
    "\n",
    "# Step 4: Predict and calculate MAE\n",
    "predictions = model.predict(X_test)\n",
    "mae = np.abs(predictions - y_test).mean()\n",
    "print(f'MAE: {mae:.2f} MB')"
   ]
  }
 ],
 "metadata": {
  "kernelspec": {
   "display_name": "Python 3",
   "language": "python",
   "name": "python3"
  },
  "language_info": {
   "codemirror_mode": {
    "name": "ipython",
    "version": 3
   },
   "file_extension": ".py",
   "mimetype": "text/x-python",
   "name": "python",
   "nbconvert_exporter": "python",
   "pygments_lexer": "ipython3",
   "version": "3.8.0"
  }
 },
 "nbformat": 4,
 "nbformat_minor": 2
}
